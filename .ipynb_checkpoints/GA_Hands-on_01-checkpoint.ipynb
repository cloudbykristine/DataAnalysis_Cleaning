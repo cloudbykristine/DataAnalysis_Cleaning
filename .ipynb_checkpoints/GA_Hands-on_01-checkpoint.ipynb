{
 "cells": [
  {
   "cell_type": "markdown",
   "id": "972a3a88-776f-41c1-a33f-c9c2312b608c",
   "metadata": {},
   "source": [
    "# Data Cleaning Using Python Libraries"
   ]
  },
  {
   "cell_type": "markdown",
   "id": "a4fc75c4-e2be-4ed9-a6df-c64c139b5e87",
   "metadata": {
    "jp-MarkdownHeadingCollapsed": true
   },
   "source": [
    "#### This is a step-by-step process of cleaning data from a dataset found here: https://www.kaggle.com/datasnaek/youtube-new"
   ]
  },
  {
   "cell_type": "markdown",
   "id": "fb9e1047-38bb-47fb-8259-ece100cca973",
   "metadata": {},
   "source": [
    "#### This is an adaptation from this reference: https://medium.com/@raahimkhan_85173/data-cleaning-and-exploratory-data-analysis-with-pandas-on-trending-you-tube-video-statistics-e06d7cd08710"
   ]
  },
  {
   "cell_type": "markdown",
   "id": "a14f7d12-308c-451e-a8a3-5ae5596591af",
   "metadata": {},
   "source": [
    "##### Install the libraries below"
   ]
  },
  {
   "cell_type": "code",
   "execution_count": null,
   "id": "49c87ae3-0f49-4528-82a6-3350a3255385",
   "metadata": {},
   "outputs": [],
   "source": [
    "!pip install numpy pandas matplotlib seaborn"
   ]
  },
  {
   "cell_type": "markdown",
   "id": "6b517a14-1c8b-41ce-8bc1-ceb62cdf4eb4",
   "metadata": {},
   "source": [
    "##### Import Libraries + Verify Versions + Initial Settings"
   ]
  },
  {
   "cell_type": "code",
   "execution_count": 1,
   "id": "f9d4a58f-f4d2-48e0-a658-cfba659059d5",
   "metadata": {},
   "outputs": [
    {
     "name": "stdout",
     "output_type": "stream",
     "text": [
      "numpy version: 2.0.0\n",
      "pandas version: 2.2.2\n",
      "matplotlib version: 3.9.0\n",
      "seaborn version: 0.13.2\n"
     ]
    }
   ],
   "source": [
    "import numpy as np\n",
    "import pandas as pd\n",
    "import matplotlib.pyplot as plt\n",
    "import seaborn as sns\n",
    "import matplotlib\n",
    "\t\n",
    "sns.set()\n",
    "pd.set_option('display.max_columns', None)\n",
    "pd.set_option('display.max_rows', None)\n",
    "pd.options.mode.chained_assignment = None\n",
    "print(\"numpy version:\", np.__version__)\n",
    "print(\"pandas version:\", pd.__version__)\n",
    "print(\"matplotlib version:\", matplotlib.__version__)\n",
    "print(\"seaborn version:\", sns.__version__)\n"
   ]
  },
  {
   "cell_type": "code",
   "execution_count": 2,
   "id": "da905c4e-edea-45f2-a587-6f53c9dbaac3",
   "metadata": {},
   "outputs": [],
   "source": [
    "import re\n",
    "%matplotlib inline\n",
    "from matplotlib import cm\n",
    "from datetime import datetime\n",
    "import glob\n",
    "import os\n",
    "import json\n",
    "import pickle\n",
    "import six"
   ]
  },
  {
   "cell_type": "markdown",
   "id": "e8df3457-cda4-4a29-8ad9-40afd3555311",
   "metadata": {},
   "source": [
    "##### Define the location of the files"
   ]
  },
  {
   "cell_type": "code",
   "execution_count": 3,
   "id": "f7266add-6c7a-40e1-87c1-252135dcb870",
   "metadata": {},
   "outputs": [
    {
     "name": "stdout",
     "output_type": "stream",
     "text": [
      "/Users/kristinefrancesbaldas/Documents/Google Analytics Course/Hands-on 01/Sample01\n"
     ]
    }
   ],
   "source": [
    "# Define the path to the directory\n",
    "CSV_path = '/Users/kristinefrancesbaldas/Documents/Google Analytics Course/Hands-on 01/Sample01'\n",
    "\n",
    "# Print the path\n",
    "print(CSV_path)\n"
   ]
  },
  {
   "cell_type": "markdown",
   "id": "7082e494-cf4e-4da1-8439-9848489f446b",
   "metadata": {},
   "source": [
    "##### Return CSV files only and save them in a list variable"
   ]
  },
  {
   "cell_type": "code",
   "execution_count": 4,
   "id": "2a6baa23-4876-4efe-9c9f-2c11ae89d3d6",
   "metadata": {},
   "outputs": [
    {
     "name": "stdout",
     "output_type": "stream",
     "text": [
      "['/Users/kristinefrancesbaldas/Documents/Google Analytics Course/Hands-on 01/Sample01/MXvideos.csv', '/Users/kristinefrancesbaldas/Documents/Google Analytics Course/Hands-on 01/Sample01/INvideos.csv', '/Users/kristinefrancesbaldas/Documents/Google Analytics Course/Hands-on 01/Sample01/DEvideos.csv', '/Users/kristinefrancesbaldas/Documents/Google Analytics Course/Hands-on 01/Sample01/JPvideos.csv', '/Users/kristinefrancesbaldas/Documents/Google Analytics Course/Hands-on 01/Sample01/KRvideos.csv', '/Users/kristinefrancesbaldas/Documents/Google Analytics Course/Hands-on 01/Sample01/CAvideos.csv', '/Users/kristinefrancesbaldas/Documents/Google Analytics Course/Hands-on 01/Sample01/RUvideos.csv', '/Users/kristinefrancesbaldas/Documents/Google Analytics Course/Hands-on 01/Sample01/FRvideos.csv', '/Users/kristinefrancesbaldas/Documents/Google Analytics Course/Hands-on 01/Sample01/USvideos.csv', '/Users/kristinefrancesbaldas/Documents/Google Analytics Course/Hands-on 01/Sample01/GBvideos.csv']\n"
     ]
    }
   ],
   "source": [
    "# Find all CSV files in the specified directory\n",
    "AllCSV = [i for i in glob.glob(f'{CSV_path}/*.csv')]\n",
    "\n",
    "# Print the list of CSV files\n",
    "print(AllCSV)"
   ]
  },
  {
   "cell_type": "code",
   "execution_count": 5,
   "id": "f415e4e6-c4a6-430a-8f6b-014758026371",
   "metadata": {},
   "outputs": [
    {
     "name": "stdout",
     "output_type": "stream",
     "text": [
      "      video_id trending_date  \\\n",
      "0  SbOwzAl9ZfQ      17.14.11   \n",
      "1  klOV6Xh-DnI      17.14.11   \n",
      "2  6L2ZF7Qzsbk      17.14.11   \n",
      "3  hcY52MFWMDM      17.14.11   \n",
      "4  _OXDcGPVAa4      17.14.11   \n",
      "5  Q9kK6NWZR1U      17.14.11   \n",
      "6  c9VTD3n_IDs      17.14.11   \n",
      "7  XzULSsZYMRc      17.14.11   \n",
      "8  uijjYNtl_UM      17.14.11   \n",
      "9  cOJ68MQm2ac      17.14.11   \n",
      "\n",
      "                                               title  \\\n",
      "0                     CapÃ­tulo 12 | MasterChef 2017   \n",
      "1  ALEXA EX-INTEGRANTE DEL GRUPO TIMBIRICHE RENUN...   \n",
      "2           LOUIS CKAGÃ - EL PULSO DE LA REPÃBLICA   \n",
      "3   Sismo de 6.7 sacude Costa Rica 12 Noviembre 2017   \n",
      "4           DOG HACKS | MUSAS LESSLIE LOS POLINESIOS   \n",
      "5  Asi se sintio Terremoto en iraq al bordo de ir...   \n",
      "6  La Resolana con el Capi | Programa 12 noviembr...   \n",
      "7  M6.7 Costa Rica AnÃ¡lisis de Terremotos en (((...   \n",
      "8  7 NiÃ±os Famosos Que No Supieron Adaptarse a L...   \n",
      "9  TOP: Los 7 libros infantiles mÃ¡s perturbadore...   \n",
      "\n",
      "               channel_title  category_id              publish_time  \\\n",
      "0            MasterChef 2017           24  2017-11-13T06:06:22.000Z   \n",
      "1   Micky Contreras Martinez           22  2017-11-13T05:11:58.000Z   \n",
      "2  El Pulso De La RepÃºblica           25  2017-11-13T17:00:02.000Z   \n",
      "3                   Casanare           25  2017-11-13T03:47:10.000Z   \n",
      "4                      Musas           26  2017-11-13T19:17:48.000Z   \n",
      "5  MÃSICA & ENTRETENIMIENTO           10  2017-11-12T20:17:38.000Z   \n",
      "6                La Resolana           22  2017-11-13T07:00:03.000Z   \n",
      "7            concienciaradio           25  2017-11-13T06:18:23.000Z   \n",
      "8         Los mejores Top 10           24  2017-11-12T19:54:12.000Z   \n",
      "9               DrossRotzank           24  2017-11-12T21:14:44.000Z   \n",
      "\n",
      "                                                tags    views  likes  \\\n",
      "0  MasterChef Junior 2017|\"TV Azteca\"|\"recetas\"|\"...   310130   4182   \n",
      "1                                    La Voz Mexico 7   104972    271   \n",
      "2  Chumel Torres|\"El Pulso de la Republica\"|\"noti...   136064  10105   \n",
      "3         temblor|\"costa rica\"|\"sismo en costa rica\"    96153    378   \n",
      "4  MUSAS|\"lesslie\"|\"karen\"|\"hacks\"|\"perros\"|\"dogs...   499965  57781   \n",
      "5                                             [none]   129645    506   \n",
      "6  la resolana|\"la resolana con el capi\"|\"tv azte...    75197   2277   \n",
      "7  terremoto|\"costa rica\"|\"nicaragua\"|\"alex backm...   142522   7745   \n",
      "8  los mejores top 10|\"top 10 niÃ±os\"|\"top 10\"|\"t...   371110  20155   \n",
      "9  libros infantiles|\"Dross\"|\"terror\"|\"horror\"|\"m...  1111314  83582   \n",
      "\n",
      "   dislikes  comment_count                                  thumbnail_link  \\\n",
      "0       361           1836  https://i.ytimg.com/vi/SbOwzAl9ZfQ/default.jpg   \n",
      "1       174            369  https://i.ytimg.com/vi/klOV6Xh-DnI/default.jpg   \n",
      "2       266            607  https://i.ytimg.com/vi/6L2ZF7Qzsbk/default.jpg   \n",
      "3       171            208  https://i.ytimg.com/vi/hcY52MFWMDM/default.jpg   \n",
      "4       681           7428  https://i.ytimg.com/vi/_OXDcGPVAa4/default.jpg   \n",
      "5        67            239  https://i.ytimg.com/vi/Q9kK6NWZR1U/default.jpg   \n",
      "6        69            164  https://i.ytimg.com/vi/c9VTD3n_IDs/default.jpg   \n",
      "7       659              0  https://i.ytimg.com/vi/XzULSsZYMRc/default.jpg   \n",
      "8       912            766  https://i.ytimg.com/vi/uijjYNtl_UM/default.jpg   \n",
      "9      2194           9106  https://i.ytimg.com/vi/cOJ68MQm2ac/default.jpg   \n",
      "\n",
      "   comments_disabled  ratings_disabled  video_error_or_removed  \\\n",
      "0              False             False                   False   \n",
      "1              False             False                   False   \n",
      "2              False             False                   False   \n",
      "3              False             False                   False   \n",
      "4              False             False                   False   \n",
      "5              False             False                   False   \n",
      "6              False             False                   False   \n",
      "7               True             False                   False   \n",
      "8              False             False                   False   \n",
      "9              False             False                   False   \n",
      "\n",
      "                                         description country  \n",
      "0  Disfruta la presencia del Chef Torreblanca en ...      MX  \n",
      "1  ALEXA EX-INTEGRANTE DEL GRUPO TIMBIRICHE RENUN...      MX  \n",
      "2  La canciÃ³n del principio se llama âEste esp...      MX  \n",
      "3  El video es de un Walmart en el pais centroame...      MX  \n",
      "4  MI HERMANO NARRA MI RUTINA DE MAQUILLAJE\\nhttp...      MX  \n",
      "5  Un fuerte sismo ha afectado en la noche de est...      MX  \n",
      "6  Hoy en La Resolana vamos a divertirnos con nue...      MX  \n",
      "7  (CR NOTICIAS NOV 12, 2017) UN FUERTE TERREMOTO...      MX  \n",
      "8  7 NiÃ±os Famosos Que No Supieron Adaptarse a L...      MX  \n",
      "9  Actualizo 3 veces por semana. Si el video te g...      MX  \n"
     ]
    }
   ],
   "source": [
    "#initiate an empty list to store each data frame separately\n",
    "all_dataframes = []\n",
    "\n",
    "for csv in AllCSV:\n",
    "    try:\n",
    "        # Try reading the CSV file with utf-8 encoding\n",
    "         df = pd.read_csv(csv, encoding = 'utf-8')\n",
    "    except UnicodeDecodeError:\n",
    "        # If utf-8 encoding fails, try reading the CSV file with latin1 encoding\n",
    "        df = pd.read_csv(csv, encoding='latin1')\n",
    "    \n",
    "    # Extract the country code from the file name\n",
    "    country_code = csv.split('/')[-1][0:2]\n",
    "    \n",
    "    # Add a 'country' column to the DataFrame\n",
    "    df['country'] = country_code\n",
    "    \n",
    "    # Append the DataFrame to the list\n",
    "    all_dataframes.append(df)\n",
    "\n",
    "# Display the first few rows of the first DataFrame in the list\n",
    "print(all_dataframes[0].head(n=10))  # Use print() to ensure it displays in some environments\n",
    "\n"
   ]
  },
  {
   "cell_type": "code",
   "execution_count": 6,
   "id": "fca031a0-740c-4b0a-baa7-3f66b4e6dae6",
   "metadata": {},
   "outputs": [
    {
     "name": "stdout",
     "output_type": "stream",
     "text": [
      "['MXvideos.csv', 'INvideos.csv', 'DEvideos.csv', 'JPvideos.csv', 'KRvideos.csv', 'CAvideos.csv', 'RUvideos.csv', 'FRvideos.csv', 'USvideos.csv', 'GBvideos.csv']\n"
     ]
    }
   ],
   "source": [
    "# list down the files\n",
    "\n",
    "files = []\n",
    "\n",
    "for csv in AllCSV:\n",
    "    file_name = csv.split('/')[-1]\n",
    "    files.append(file_name)\n",
    "\n",
    "print(files)"
   ]
  },
  {
   "cell_type": "code",
   "execution_count": 7,
   "id": "3b3e8aaf-fc88-44cb-bd64-9a45850a4290",
   "metadata": {},
   "outputs": [
    {
     "name": "stdout",
     "output_type": "stream",
     "text": [
      "10\n"
     ]
    },
    {
     "data": {
      "text/plain": [
       "video_id                  object\n",
       "trending_date             object\n",
       "title                     object\n",
       "channel_title             object\n",
       "category_id                int64\n",
       "publish_time              object\n",
       "tags                      object\n",
       "views                      int64\n",
       "likes                      int64\n",
       "dislikes                   int64\n",
       "comment_count              int64\n",
       "thumbnail_link            object\n",
       "comments_disabled           bool\n",
       "ratings_disabled            bool\n",
       "video_error_or_removed      bool\n",
       "description               object\n",
       "country                   object\n",
       "dtype: object"
      ]
     },
     "execution_count": 7,
     "metadata": {},
     "output_type": "execute_result"
    }
   ],
   "source": [
    "#counts the files\n",
    "print(len(all_dataframes))\n",
    "\n",
    "#display the data type for all columns\n",
    "all_dataframes[0].dtypes"
   ]
  },
  {
   "cell_type": "code",
   "execution_count": 8,
   "id": "f265393a-0ec7-4722-99d7-7b2269c4b6fb",
   "metadata": {},
   "outputs": [
    {
     "name": "stdout",
     "output_type": "stream",
     "text": [
      "video_id                  string[python]\n",
      "trending_date             string[python]\n",
      "title                     string[python]\n",
      "channel_title             string[python]\n",
      "category_id                        int64\n",
      "publish_time              string[python]\n",
      "tags                      string[python]\n",
      "views                              int64\n",
      "likes                              int64\n",
      "dislikes                           int64\n",
      "comment_count                      int64\n",
      "thumbnail_link            string[python]\n",
      "comments_disabled                   bool\n",
      "ratings_disabled                    bool\n",
      "video_error_or_removed              bool\n",
      "description               string[python]\n",
      "country                   string[python]\n",
      "dtype: object\n"
     ]
    }
   ],
   "source": [
    "# Change the following objects to string data types.\n",
    "\n",
    "# Identify the columns that are objects:\n",
    "\n",
    "for df in all_dataframes:\n",
    "    object_columns = df.select_dtypes(include=['object']).columns\n",
    "    df[object_columns] = df[object_columns].astype('string')\n",
    "\n",
    "# Verify if the objects have been converted to strings\n",
    "\n",
    "print(all_dataframes[0].dtypes)"
   ]
  },
  {
   "cell_type": "code",
   "execution_count": 9,
   "id": "459dabe0-1be0-4613-add9-c8646be65dfd",
   "metadata": {},
   "outputs": [
    {
     "name": "stdout",
     "output_type": "stream",
     "text": [
      "video_id                  string[python]\n",
      "trending_date             string[python]\n",
      "title                     string[python]\n",
      "channel_title             string[python]\n",
      "category_id                        int64\n",
      "publish_time              string[python]\n",
      "tags                      string[python]\n",
      "views                              int64\n",
      "likes                              int64\n",
      "dislikes                           int64\n",
      "comment_count                      int64\n",
      "thumbnail_link            string[python]\n",
      "comments_disabled               category\n",
      "ratings_disabled                category\n",
      "video_error_or_removed          category\n",
      "description               string[python]\n",
      "country                   string[python]\n",
      "dtype: object\n"
     ]
    }
   ],
   "source": [
    "# Do the same for the boolean data types\n",
    "\n",
    "for df in all_dataframes:\n",
    "    bool_columns = df.select_dtypes(include=['bool']).columns\n",
    "    df[bool_columns] = df[bool_columns].astype('category')\n",
    "    \n",
    "# Verify if the objects have been converted to strings\n",
    "print(all_dataframes[1].dtypes)"
   ]
  },
  {
   "cell_type": "code",
   "execution_count": 10,
   "id": "5eb6c188-52a4-4c22-9f23-f0dfafc89f39",
   "metadata": {},
   "outputs": [],
   "source": [
    "#Create a custom function that will convert \"trending_date\" column from YY.DD.MM to YYYY-DD-MMM\n",
    "\n",
    "def convert_date(date_str):\n",
    "    # Split the date string into components using \".\" as a delimiter.\n",
    "    year, day, month = date_str.split('.')\n",
    "    \n",
    "    # Create a mapping / dictionary from numeric month to abbreviated month name\n",
    "    month_map = {\n",
    "        '01': 'Jan', '02': 'Feb', '03': 'Mar', '04': 'Apr',\n",
    "        '05': 'May', '06': 'Jun', '07': 'Jul', '08': 'Aug',\n",
    "        '09': 'Sep', '10': 'Oct', '11': 'Nov', '12': 'Dec'\n",
    "    }\n",
    "    \n",
    "    # Convert year, day, and month to the desired format\n",
    "    new_date = f'20{year}-{day}-{month_map[month]}'\n",
    "    return new_date"
   ]
  },
  {
   "cell_type": "code",
   "execution_count": null,
   "id": "2e0a2400-98d2-4752-9add-764da22e87cb",
   "metadata": {},
   "outputs": [],
   "source": [
    "print(all_dataframes[0]['trending_date'])\n"
   ]
  },
  {
   "cell_type": "code",
   "execution_count": 12,
   "id": "1e58c68f-1904-42c4-8357-3e049dfabe6e",
   "metadata": {},
   "outputs": [],
   "source": [
    "# transform the trending date from 'YY.DD.MM' to 'YYYY.DD.MMM'\n",
    "for df in all_dataframes:\n",
    "    df['trending_date'] = df['trending_date'].apply(convert_date)"
   ]
  },
  {
   "cell_type": "code",
   "execution_count": null,
   "id": "b96c0e36-8845-4885-b97f-d32dfcd51ecb",
   "metadata": {},
   "outputs": [],
   "source": [
    "#verify\n",
    "\n",
    "print(all_dataframes[0]['trending_date'])\n"
   ]
  },
  {
   "cell_type": "code",
   "execution_count": 14,
   "id": "37b8e6bf-ca64-4430-946c-9b5387d8fb70",
   "metadata": {},
   "outputs": [
    {
     "name": "stdout",
     "output_type": "stream",
     "text": [
      "0    2017-11-13T06:06:22.000Z\n",
      "1    2017-11-13T05:11:58.000Z\n",
      "2    2017-11-13T17:00:02.000Z\n",
      "3    2017-11-13T03:47:10.000Z\n",
      "4    2017-11-13T19:17:48.000Z\n",
      "Name: publish_time, dtype: string\n"
     ]
    }
   ],
   "source": [
    "print(all_dataframes[0]['publish_time'].head())"
   ]
  },
  {
   "cell_type": "code",
   "execution_count": 17,
   "id": "ff0a3434-ef3d-41c7-bbe1-f7048aef0693",
   "metadata": {},
   "outputs": [],
   "source": [
    "# Create a function to parse 'publish_time' to 'publish_date' and 'publish_time'\n",
    "\n",
    "def parse_publish_time(publish_time_str):\n",
    "    date_time = publish_time_str.split('T')\n",
    "    publish_date_new = date_time[0]\n",
    "    publish_time_new = date_time[1].split('.')[0]\n",
    "    return publish_date_new, publish_time_new\n",
    "    "
   ]
  },
  {
   "cell_type": "code",
   "execution_count": 19,
   "id": "6d899a65-ff67-489f-83d3-5dd315abe573",
   "metadata": {},
   "outputs": [],
   "source": [
    "# Use the function on the 'publish_time' series:\n",
    "\n",
    "for df in all_dataframes:\n",
    "    df[['publish_date_new', 'publish_time_new']] = df['publish_time'].apply(lambda x: pd.Series(parse_publish_time(x)))\n",
    "  \n",
    "    # Convert trending_date and publish_date_new to datetime\n",
    "    df['trending_date'] = pd.to_datetime(df['trending_date'], errors='coerce')\n",
    "    df['publish_date_new'] = pd.to_datetime(df['publish_date_new'], errors='coerce')\n",
    "    \n",
    "    # Convert publish_time_new to time\n",
    "    df['publish_time_new'] = pd.to_datetime(df['publish_time_new'], format='%H:%M:%S', errors='coerce').dt.time"
   ]
  },
  {
   "cell_type": "code",
   "execution_count": 21,
   "id": "3cfdac4b-39df-4720-a488-d3425e7c0eb9",
   "metadata": {},
   "outputs": [
    {
     "name": "stdout",
     "output_type": "stream",
     "text": [
      "video_id                  string[python]\n",
      "trending_date             datetime64[ns]\n",
      "title                     string[python]\n",
      "channel_title             string[python]\n",
      "category_id                        int64\n",
      "publish_time              string[python]\n",
      "tags                      string[python]\n",
      "views                              int64\n",
      "likes                              int64\n",
      "dislikes                           int64\n",
      "comment_count                      int64\n",
      "thumbnail_link            string[python]\n",
      "comments_disabled               category\n",
      "ratings_disabled                category\n",
      "video_error_or_removed          category\n",
      "description               string[python]\n",
      "country                   string[python]\n",
      "publish_date_new          datetime64[ns]\n",
      "publish_time_new                  object\n",
      "dtype: object\n"
     ]
    }
   ],
   "source": [
    "# Verify the datatypes\n",
    "print(all_dataframes[0].dtypes)\n",
    "\n",
    "# The publish_time_new column remains an object because \n",
    "# pandas doesn't have a dedicated datetime.time type. \n",
    "# Instead, the .dt.time accessor returns a Series of Python datetime.time objects, \n",
    "# which pandas treats as generic objects.\n"
   ]
  },
  {
   "cell_type": "code",
   "execution_count": 22,
   "id": "ae90dbd1-7b13-4a01-b2d4-a6460948cb2b",
   "metadata": {},
   "outputs": [],
   "source": [
    "# set 'video_id' as index\n",
    "for df in all_dataframes:\n",
    "    df.set_index('video_id', inplace=True)"
   ]
  },
  {
   "cell_type": "code",
   "execution_count": null,
   "id": "6d3ecc2d-fc7e-48b2-9873-50b6c7d9b11e",
   "metadata": {},
   "outputs": [],
   "source": []
  },
  {
   "cell_type": "code",
   "execution_count": null,
   "id": "592fab18-20e4-43a4-8bc3-612326d76ba8",
   "metadata": {},
   "outputs": [],
   "source": []
  },
  {
   "cell_type": "code",
   "execution_count": null,
   "id": "3018834a-2a34-4af6-87f2-a82b28823340",
   "metadata": {},
   "outputs": [],
   "source": []
  },
  {
   "cell_type": "code",
   "execution_count": null,
   "id": "62124578-bfd6-4b63-a904-b713bf324d23",
   "metadata": {},
   "outputs": [],
   "source": []
  },
  {
   "cell_type": "code",
   "execution_count": null,
   "id": "a049e18b-9908-4abc-9aa3-467f211c10cb",
   "metadata": {},
   "outputs": [],
   "source": []
  }
 ],
 "metadata": {
  "kernelspec": {
   "display_name": "Python 3 (ipykernel)",
   "language": "python",
   "name": "python3"
  },
  "language_info": {
   "codemirror_mode": {
    "name": "ipython",
    "version": 3
   },
   "file_extension": ".py",
   "mimetype": "text/x-python",
   "name": "python",
   "nbconvert_exporter": "python",
   "pygments_lexer": "ipython3",
   "version": "3.12.3"
  }
 },
 "nbformat": 4,
 "nbformat_minor": 5
}
